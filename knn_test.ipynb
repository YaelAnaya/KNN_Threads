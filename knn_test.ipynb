{
 "cells": [
  {
   "cell_type": "code",
   "execution_count": null,
   "metadata": {
    "collapsed": true,
    "ExecuteTime": {
     "end_time": "2023-05-25T05:26:59.521571300Z",
     "start_time": "2023-05-25T05:26:59.520569900Z"
    }
   },
   "outputs": [],
   "source": [
    "import numpy as np\n",
    "import pandas as pd\n",
    "from queue import Queue\n",
    "import threading\n",
    "from sklearn.metrics import accuracy_score\n",
    "import time\n",
    "import matplotlib.pyplot as plt\n",
    "from scipy.spatial import distance"
   ]
  },
  {
   "cell_type": "code",
   "execution_count": 44,
   "outputs": [],
   "source": [
    "class KNN:\n",
    "    def __init__(self, num_threads):\n",
    "        self.time = None\n",
    "        self.y_train = None\n",
    "        self.X_train = None\n",
    "        self.k = None\n",
    "        self.queue = None\n",
    "        self.predictions = None\n",
    "        self.num_threads = num_threads\n",
    "\n",
    "    def fit(self, X, y):\n",
    "        self.X_train = X\n",
    "        self.y_train = y\n",
    "\n",
    "    def predict(self, X, k_neighbours):\n",
    "        self.k = k_neighbours\n",
    "        # Se inicializa el arreglo de predicciones con ceros utilizando el numero de filas de X\n",
    "        self.predictions = np.zeros(X.shape[0])\n",
    "        self.queue = Queue()\n",
    "        # Se agrega a la cola los indices y los valores de X\n",
    "        for i in range(X.shape[0]):\n",
    "            self.queue.put((i, X[i, :]))\n",
    "        threads = []\n",
    "        for _ in range(self.num_threads):\n",
    "            thread = threading.Thread(target=self.thread_predict)\n",
    "            thread.start()\n",
    "            threads.append(thread)\n",
    "\n",
    "        for thread in threads:\n",
    "            thread.join()\n",
    "\n",
    "        return self.predictions\n",
    "\n",
    "    def thread_predict(self):\n",
    "        while not self.queue.empty():\n",
    "            # Se obtiene el indice y el valor de X\n",
    "            i, x = self.queue.get()\n",
    "            distances = distance.cdist([x], self.X_train, 'euclidean').flatten()\n",
    "            # Se obtienen los indices de los k vecinos mas cercanos\n",
    "            k_indices = distances.argsort()[:self.k]\n",
    "            # Se obtienen las etiquetas de los k vecinos mas cercanos\n",
    "            k_nearest_labels = [self.y_train[i] for i in k_indices]\n",
    "            # Se obtiene la etiqueta mas repetida\n",
    "            self.predictions[i] = max(set(k_nearest_labels), key=k_nearest_labels.count)"
   ],
   "metadata": {
    "collapsed": false,
    "ExecuteTime": {
     "end_time": "2023-05-25T05:53:25.800277400Z",
     "start_time": "2023-05-25T05:53:25.793205100Z"
    }
   }
  },
  {
   "cell_type": "code",
   "execution_count": 45,
   "outputs": [],
   "source": [
    "train_df = pd.read_csv('./dataset/trn_set.csv').dropna()\n",
    "test_df = pd.read_csv('./dataset/tst_set.csv').dropna()\n",
    "\n",
    "# split data into X and y (features and target)\n",
    "X_train = train_df.iloc[:, :-1].values\n",
    "y_train = train_df.iloc[:, -1].values\n",
    "\n",
    "X_test = test_df.iloc[:, :-1].values\n",
    "y_test = test_df.iloc[:, -1].values"
   ],
   "metadata": {
    "collapsed": false,
    "ExecuteTime": {
     "end_time": "2023-05-25T05:53:29.726972900Z",
     "start_time": "2023-05-25T05:53:29.371736300Z"
    }
   }
  },
  {
   "cell_type": "code",
   "execution_count": 55,
   "outputs": [
    {
     "name": "stdout",
     "output_type": "stream",
     "text": [
      "Threads: 3, K: 1, Accuracy: 0.9422668468816374\n",
      "Threads: 3, K: 3, Accuracy: 0.9530797451245414\n",
      "Threads: 3, K: 5, Accuracy: 0.9569414944970072\n",
      "Threads: 3, K: 7, Accuracy: 0.9577138443715003\n",
      "Threads: 3, K: 9, Accuracy: 0.9590654566518633\n",
      "Threads: 3, K: 11, Accuracy: 0.9590654566518633\n",
      "Threads: 3, K: 13, Accuracy: 0.9581000193087469\n",
      "Threads: 3, K: 15, Accuracy: 0.9592585441204866\n",
      "Threads: 3, K: 17, Accuracy: 0.9600308939949798\n"
     ]
    }
   ],
   "source": [
    "k_values = [1, 3, 5, 7, 9, 11, 13, 15, 17]\n",
    "thread_values = [3]\n",
    "time_values = {}\n",
    "colors = ['red', 'blue', 'green', 'orange']\n",
    "\n",
    "for threads in thread_values:\n",
    "    knn = KNN(threads)\n",
    "    knn.fit(X_train, y_train)\n",
    "    start = time.time()\n",
    "    for k in k_values:\n",
    "        y_pred = knn.predict(X_test, k)\n",
    "        print('Threads: {}, K: {}, Accuracy: {}'.format(threads, k, accuracy_score(y_test, y_pred)))\n",
    "    end = time.time()\n",
    "    time_values[threads] = end - start\n"
   ],
   "metadata": {
    "collapsed": false,
    "ExecuteTime": {
     "end_time": "2023-05-25T07:41:24.410241800Z",
     "start_time": "2023-05-25T07:37:49.202501600Z"
    }
   }
  },
  {
   "cell_type": "code",
   "execution_count": 54,
   "outputs": [
    {
     "name": "stdout",
     "output_type": "stream",
     "text": [
      "{5: 54.984997510910034, 7: 36.054619789123535, 9: 30.028111457824707, 11: 27.335660219192505}\n"
     ]
    },
    {
     "data": {
      "text/plain": "<Figure size 1000x500 with 1 Axes>",
      "image/png": "[encoded data removed]"
     },
     "metadata": {},
     "output_type": "display_data"
    }
   ],
   "source": [
    "print(time_values)\n",
    "plt.figure(figsize=(10, 5))\n",
    "plt.bar(time_values.keys(), time_values.values(), color=colors)\n",
    "plt.xlabel('Threads')\n",
    "plt.ylabel('Time (s)')\n",
    "plt.title('KNN with different number of threads')\n",
    "plt.show()"
   ],
   "metadata": {
    "collapsed": false,
    "ExecuteTime": {
     "end_time": "2023-05-25T06:25:12.433436100Z",
     "start_time": "2023-05-25T06:25:12.302876200Z"
    }
   }
  },
  {
   "cell_type": "code",
   "execution_count": null,
   "outputs": [],
   "source": [],
   "metadata": {
    "collapsed": false
   }
  }
 ],
 "metadata": {
  "kernelspec": {
   "display_name": "Python 3",
   "language": "python",
   "name": "python3"
  },
  "language_info": {
   "codemirror_mode": {
    "name": "ipython",
    "version": 2
   },
   "file_extension": ".py",
   "mimetype": "text/x-python",
   "name": "python",
   "nbconvert_exporter": "python",
   "pygments_lexer": "ipython2",
   "version": "2.7.6"
  }
 },
 "nbformat": 4,
 "nbformat_minor": 0
}
